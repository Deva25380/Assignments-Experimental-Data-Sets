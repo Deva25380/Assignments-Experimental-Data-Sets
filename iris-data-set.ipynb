{
 "cells": [
  {
   "cell_type": "code",
   "execution_count": 140,
   "metadata": {},
   "outputs": [],
   "source": [
    "import pandas as pd\n",
    "import matplotlib.pyplot as plt\n",
    "import seaborn as sn\n",
    "import numpy as np"
   ]
  },
  {
   "cell_type": "markdown",
   "metadata": {},
   "source": [
    "# Load the Data:"
   ]
  },
  {
   "cell_type": "code",
   "execution_count": 141,
   "metadata": {},
   "outputs": [
    {
     "data": {
      "text/html": [
       "<div>\n",
       "<style scoped>\n",
       "    .dataframe tbody tr th:only-of-type {\n",
       "        vertical-align: middle;\n",
       "    }\n",
       "\n",
       "    .dataframe tbody tr th {\n",
       "        vertical-align: top;\n",
       "    }\n",
       "\n",
       "    .dataframe thead th {\n",
       "        text-align: right;\n",
       "    }\n",
       "</style>\n",
       "<table border=\"1\" class=\"dataframe\">\n",
       "  <thead>\n",
       "    <tr style=\"text-align: right;\">\n",
       "      <th></th>\n",
       "      <th>sepal_length</th>\n",
       "      <th>sepal_width</th>\n",
       "      <th>petal_length</th>\n",
       "      <th>petal_width</th>\n",
       "      <th>species</th>\n",
       "    </tr>\n",
       "  </thead>\n",
       "  <tbody>\n",
       "    <tr>\n",
       "      <th>0</th>\n",
       "      <td>5.1</td>\n",
       "      <td>3.5</td>\n",
       "      <td>1.4</td>\n",
       "      <td>0.2</td>\n",
       "      <td>Iris-setosa</td>\n",
       "    </tr>\n",
       "    <tr>\n",
       "      <th>1</th>\n",
       "      <td>4.9</td>\n",
       "      <td>3.0</td>\n",
       "      <td>1.4</td>\n",
       "      <td>0.2</td>\n",
       "      <td>Iris-setosa</td>\n",
       "    </tr>\n",
       "    <tr>\n",
       "      <th>2</th>\n",
       "      <td>4.7</td>\n",
       "      <td>3.2</td>\n",
       "      <td>1.3</td>\n",
       "      <td>0.2</td>\n",
       "      <td>Iris-setosa</td>\n",
       "    </tr>\n",
       "    <tr>\n",
       "      <th>3</th>\n",
       "      <td>4.6</td>\n",
       "      <td>3.1</td>\n",
       "      <td>1.5</td>\n",
       "      <td>0.2</td>\n",
       "      <td>Iris-setosa</td>\n",
       "    </tr>\n",
       "    <tr>\n",
       "      <th>4</th>\n",
       "      <td>5.0</td>\n",
       "      <td>3.6</td>\n",
       "      <td>1.4</td>\n",
       "      <td>0.2</td>\n",
       "      <td>Iris-setosa</td>\n",
       "    </tr>\n",
       "  </tbody>\n",
       "</table>\n",
       "</div>"
      ],
      "text/plain": [
       "   sepal_length  sepal_width  petal_length  petal_width      species\n",
       "0           5.1          3.5           1.4          0.2  Iris-setosa\n",
       "1           4.9          3.0           1.4          0.2  Iris-setosa\n",
       "2           4.7          3.2           1.3          0.2  Iris-setosa\n",
       "3           4.6          3.1           1.5          0.2  Iris-setosa\n",
       "4           5.0          3.6           1.4          0.2  Iris-setosa"
      ]
     },
     "execution_count": 141,
     "metadata": {},
     "output_type": "execute_result"
    }
   ],
   "source": [
    "data=pd.read_csv(\"../input/iris-flower-dataset/IRIS.csv\")\n",
    "data.head()"
   ]
  },
  {
   "cell_type": "code",
   "execution_count": 142,
   "metadata": {},
   "outputs": [
    {
     "data": {
      "text/plain": [
       "sepal_length    0\n",
       "sepal_width     0\n",
       "petal_length    0\n",
       "petal_width     0\n",
       "species         0\n",
       "dtype: int64"
      ]
     },
     "execution_count": 142,
     "metadata": {},
     "output_type": "execute_result"
    }
   ],
   "source": [
    "data.isnull().sum()"
   ]
  },
  {
   "cell_type": "code",
   "execution_count": 143,
   "metadata": {},
   "outputs": [
    {
     "data": {
      "text/plain": [
       "(150, 5)"
      ]
     },
     "execution_count": 143,
     "metadata": {},
     "output_type": "execute_result"
    }
   ],
   "source": [
    "data.shape"
   ]
  },
  {
   "cell_type": "code",
   "execution_count": 144,
   "metadata": {},
   "outputs": [
    {
     "name": "stdout",
     "output_type": "stream",
     "text": [
      "<class 'pandas.core.frame.DataFrame'>\n",
      "RangeIndex: 150 entries, 0 to 149\n",
      "Data columns (total 5 columns):\n",
      " #   Column        Non-Null Count  Dtype  \n",
      "---  ------        --------------  -----  \n",
      " 0   sepal_length  150 non-null    float64\n",
      " 1   sepal_width   150 non-null    float64\n",
      " 2   petal_length  150 non-null    float64\n",
      " 3   petal_width   150 non-null    float64\n",
      " 4   species       150 non-null    object \n",
      "dtypes: float64(4), object(1)\n",
      "memory usage: 6.0+ KB\n"
     ]
    }
   ],
   "source": [
    "data.info()"
   ]
  },
  {
   "cell_type": "markdown",
   "metadata": {},
   "source": [
    "# Converting the object type to Int form:"
   ]
  },
  {
   "cell_type": "code",
   "execution_count": 145,
   "metadata": {},
   "outputs": [],
   "source": [
    "from sklearn.preprocessing import LabelEncoder\n",
    "label=LabelEncoder()\n",
    "data[\"species\"]=data[[\"species\"]].apply(label.fit_transform)"
   ]
  },
  {
   "cell_type": "code",
   "execution_count": 146,
   "metadata": {},
   "outputs": [
    {
     "data": {
      "text/html": [
       "<div>\n",
       "<style scoped>\n",
       "    .dataframe tbody tr th:only-of-type {\n",
       "        vertical-align: middle;\n",
       "    }\n",
       "\n",
       "    .dataframe tbody tr th {\n",
       "        vertical-align: top;\n",
       "    }\n",
       "\n",
       "    .dataframe thead th {\n",
       "        text-align: right;\n",
       "    }\n",
       "</style>\n",
       "<table border=\"1\" class=\"dataframe\">\n",
       "  <thead>\n",
       "    <tr style=\"text-align: right;\">\n",
       "      <th></th>\n",
       "      <th>sepal_length</th>\n",
       "      <th>sepal_width</th>\n",
       "      <th>petal_length</th>\n",
       "      <th>petal_width</th>\n",
       "      <th>species</th>\n",
       "    </tr>\n",
       "  </thead>\n",
       "  <tbody>\n",
       "    <tr>\n",
       "      <th>0</th>\n",
       "      <td>5.1</td>\n",
       "      <td>3.5</td>\n",
       "      <td>1.4</td>\n",
       "      <td>0.2</td>\n",
       "      <td>0</td>\n",
       "    </tr>\n",
       "    <tr>\n",
       "      <th>1</th>\n",
       "      <td>4.9</td>\n",
       "      <td>3.0</td>\n",
       "      <td>1.4</td>\n",
       "      <td>0.2</td>\n",
       "      <td>0</td>\n",
       "    </tr>\n",
       "    <tr>\n",
       "      <th>2</th>\n",
       "      <td>4.7</td>\n",
       "      <td>3.2</td>\n",
       "      <td>1.3</td>\n",
       "      <td>0.2</td>\n",
       "      <td>0</td>\n",
       "    </tr>\n",
       "    <tr>\n",
       "      <th>3</th>\n",
       "      <td>4.6</td>\n",
       "      <td>3.1</td>\n",
       "      <td>1.5</td>\n",
       "      <td>0.2</td>\n",
       "      <td>0</td>\n",
       "    </tr>\n",
       "    <tr>\n",
       "      <th>4</th>\n",
       "      <td>5.0</td>\n",
       "      <td>3.6</td>\n",
       "      <td>1.4</td>\n",
       "      <td>0.2</td>\n",
       "      <td>0</td>\n",
       "    </tr>\n",
       "  </tbody>\n",
       "</table>\n",
       "</div>"
      ],
      "text/plain": [
       "   sepal_length  sepal_width  petal_length  petal_width  species\n",
       "0           5.1          3.5           1.4          0.2        0\n",
       "1           4.9          3.0           1.4          0.2        0\n",
       "2           4.7          3.2           1.3          0.2        0\n",
       "3           4.6          3.1           1.5          0.2        0\n",
       "4           5.0          3.6           1.4          0.2        0"
      ]
     },
     "execution_count": 146,
     "metadata": {},
     "output_type": "execute_result"
    }
   ],
   "source": [
    "data.head()"
   ]
  },
  {
   "cell_type": "code",
   "execution_count": 147,
   "metadata": {},
   "outputs": [
    {
     "data": {
      "text/plain": [
       "0    50\n",
       "1    50\n",
       "2    50\n",
       "Name: species, dtype: int64"
      ]
     },
     "execution_count": 147,
     "metadata": {},
     "output_type": "execute_result"
    }
   ],
   "source": [
    "data[\"species\"].value_counts()"
   ]
  },
  {
   "cell_type": "markdown",
   "metadata": {},
   "source": [
    "# Split the data:"
   ]
  },
  {
   "cell_type": "code",
   "execution_count": 148,
   "metadata": {},
   "outputs": [],
   "source": [
    "x=data.drop([\"species\"],1)\n",
    "y=data[\"species\"]"
   ]
  },
  {
   "cell_type": "code",
   "execution_count": 149,
   "metadata": {},
   "outputs": [],
   "source": [
    "from sklearn.model_selection import train_test_split\n",
    "x_train,x_test,y_train,y_test=train_test_split(x,y,train_size=0.30,random_state=1)"
   ]
  },
  {
   "cell_type": "markdown",
   "metadata": {},
   "source": [
    "# Builidng the Model:"
   ]
  },
  {
   "cell_type": "markdown",
   "metadata": {},
   "source": [
    "Decision Tree Algorithm:"
   ]
  },
  {
   "cell_type": "code",
   "execution_count": 150,
   "metadata": {},
   "outputs": [
    {
     "data": {
      "text/plain": [
       "DecisionTreeClassifier()"
      ]
     },
     "execution_count": 150,
     "metadata": {},
     "output_type": "execute_result"
    }
   ],
   "source": [
    "from sklearn.tree import DecisionTreeClassifier\n",
    "DTMachine=DecisionTreeClassifier()\n",
    "DTMachine.fit(x_train,y_train)"
   ]
  },
  {
   "cell_type": "code",
   "execution_count": 151,
   "metadata": {},
   "outputs": [
    {
     "name": "stdout",
     "output_type": "stream",
     "text": [
      "Decision Tree Score: 97.14285714285714\n"
     ]
    },
    {
     "data": {
      "text/plain": [
       "array([[33,  0,  0],\n",
       "       [ 0, 33,  2],\n",
       "       [ 0,  1, 36]])"
      ]
     },
     "execution_count": 151,
     "metadata": {},
     "output_type": "execute_result"
    }
   ],
   "source": [
    "Pred=DTMachine.predict(x_test)\n",
    "from sklearn.metrics import confusion_matrix,accuracy_score,classification_report\n",
    "print(\"Decision Tree Score:\",accuracy_score(y_test,Pred)*100)\n",
    "confusion_matrix(y_test,Pred)"
   ]
  },
  {
   "cell_type": "code",
   "execution_count": 152,
   "metadata": {},
   "outputs": [
    {
     "name": "stdout",
     "output_type": "stream",
     "text": [
      "              precision    recall  f1-score   support\n",
      "\n",
      "           0       1.00      1.00      1.00        33\n",
      "           1       0.97      0.94      0.96        35\n",
      "           2       0.95      0.97      0.96        37\n",
      "\n",
      "    accuracy                           0.97       105\n",
      "   macro avg       0.97      0.97      0.97       105\n",
      "weighted avg       0.97      0.97      0.97       105\n",
      "\n"
     ]
    }
   ],
   "source": [
    "print(classification_report(y_test,Pred))"
   ]
  },
  {
   "cell_type": "markdown",
   "metadata": {},
   "source": [
    "Random Forest Algorithm:"
   ]
  },
  {
   "cell_type": "code",
   "execution_count": 153,
   "metadata": {},
   "outputs": [
    {
     "data": {
      "text/plain": [
       "RandomForestClassifier()"
      ]
     },
     "execution_count": 153,
     "metadata": {},
     "output_type": "execute_result"
    }
   ],
   "source": [
    "from sklearn.ensemble import RandomForestClassifier\n",
    "RFmachine=RandomForestClassifier()\n",
    "RFmachine.fit(x,y)"
   ]
  },
  {
   "cell_type": "code",
   "execution_count": 154,
   "metadata": {},
   "outputs": [
    {
     "name": "stdout",
     "output_type": "stream",
     "text": [
      "Random Forest Score: 100.0\n"
     ]
    },
    {
     "data": {
      "text/plain": [
       "array([[50,  0,  0],\n",
       "       [ 0, 50,  0],\n",
       "       [ 0,  0, 50]])"
      ]
     },
     "execution_count": 154,
     "metadata": {},
     "output_type": "execute_result"
    }
   ],
   "source": [
    "RFPred=RFmachine.predict(x)\n",
    "print(\"Random Forest Score:\",accuracy_score(y,RFPred)*100)\n",
    "confusion_matrix(y,RFPred)"
   ]
  },
  {
   "cell_type": "code",
   "execution_count": 155,
   "metadata": {},
   "outputs": [
    {
     "name": "stdout",
     "output_type": "stream",
     "text": [
      "              precision    recall  f1-score   support\n",
      "\n",
      "           0       1.00      1.00      1.00        50\n",
      "           1       1.00      1.00      1.00        50\n",
      "           2       1.00      1.00      1.00        50\n",
      "\n",
      "    accuracy                           1.00       150\n",
      "   macro avg       1.00      1.00      1.00       150\n",
      "weighted avg       1.00      1.00      1.00       150\n",
      "\n"
     ]
    }
   ],
   "source": [
    "print(classification_report(y,RFPred))"
   ]
  },
  {
   "cell_type": "markdown",
   "metadata": {},
   "source": [
    "# Buiding ANN model:"
   ]
  },
  {
   "cell_type": "code",
   "execution_count": 156,
   "metadata": {},
   "outputs": [],
   "source": [
    "from keras.models import Sequential\n",
    "from keras.layers import Dense,Flatten,Dropout,Activation"
   ]
  },
  {
   "cell_type": "code",
   "execution_count": 157,
   "metadata": {},
   "outputs": [],
   "source": [
    "from keras.utils import to_categorical\n",
    "Y_train=to_categorical(y_train)\n",
    "Y_test=to_categorical(y_test)"
   ]
  },
  {
   "cell_type": "code",
   "execution_count": 176,
   "metadata": {},
   "outputs": [
    {
     "name": "stdout",
     "output_type": "stream",
     "text": [
      "Epoch 1/93\n",
      "2/2 [==============================] - 0s 4ms/step - loss: 1.1026 - acc: 0.3977\n",
      "Epoch 2/93\n",
      "2/2 [==============================] - 0s 4ms/step - loss: 1.0790 - acc: 0.3977\n",
      "Epoch 3/93\n",
      "2/2 [==============================] - 0s 3ms/step - loss: 1.0682 - acc: 0.3664\n",
      "Epoch 4/93\n",
      "2/2 [==============================] - 0s 3ms/step - loss: 1.0419 - acc: 0.4926\n",
      "Epoch 5/93\n",
      "2/2 [==============================] - 0s 3ms/step - loss: 1.0301 - acc: 0.6127\n",
      "Epoch 6/93\n",
      "2/2 [==============================] - 0s 3ms/step - loss: 1.0191 - acc: 0.7894\n",
      "Epoch 7/93\n",
      "2/2 [==============================] - 0s 2ms/step - loss: 1.0069 - acc: 0.9095\n",
      "Epoch 8/93\n",
      "2/2 [==============================] - 0s 2ms/step - loss: 0.9960 - acc: 0.9852\n",
      "Epoch 9/93\n",
      "2/2 [==============================] - 0s 3ms/step - loss: 0.9861 - acc: 0.9600\n",
      "Epoch 10/93\n",
      "2/2 [==============================] - 0s 3ms/step - loss: 0.9731 - acc: 0.9600\n",
      "Epoch 11/93\n",
      "2/2 [==============================] - 0s 2ms/step - loss: 0.9638 - acc: 0.9852\n",
      "Epoch 12/93\n",
      "2/2 [==============================] - 0s 3ms/step - loss: 0.9540 - acc: 0.9451\n",
      "Epoch 13/93\n",
      "2/2 [==============================] - 0s 3ms/step - loss: 0.9475 - acc: 0.8590\n",
      "Epoch 14/93\n",
      "2/2 [==============================] - 0s 3ms/step - loss: 0.9402 - acc: 0.7032\n",
      "Epoch 15/93\n",
      "2/2 [==============================] - 0s 2ms/step - loss: 0.9317 - acc: 0.6780\n",
      "Epoch 16/93\n",
      "2/2 [==============================] - 0s 3ms/step - loss: 0.9218 - acc: 0.6928\n",
      "Epoch 17/93\n",
      "2/2 [==============================] - 0s 3ms/step - loss: 0.9075 - acc: 0.7137\n",
      "Epoch 18/93\n",
      "2/2 [==============================] - 0s 2ms/step - loss: 0.9016 - acc: 0.8234\n",
      "Epoch 19/93\n",
      "2/2 [==============================] - 0s 2ms/step - loss: 0.8875 - acc: 0.9347\n",
      "Epoch 20/93\n",
      "2/2 [==============================] - 0s 2ms/step - loss: 0.8802 - acc: 0.9347\n",
      "Epoch 21/93\n",
      "2/2 [==============================] - 0s 3ms/step - loss: 0.8644 - acc: 0.9600\n",
      "Epoch 22/93\n",
      "2/2 [==============================] - 0s 3ms/step - loss: 0.8561 - acc: 0.9748\n",
      "Epoch 23/93\n",
      "2/2 [==============================] - 0s 3ms/step - loss: 0.8438 - acc: 0.9451\n",
      "Epoch 24/93\n",
      "2/2 [==============================] - 0s 3ms/step - loss: 0.8368 - acc: 0.7938\n",
      "Epoch 25/93\n",
      "2/2 [==============================] - 0s 3ms/step - loss: 0.8221 - acc: 0.7241\n",
      "Epoch 26/93\n",
      "2/2 [==============================] - 0s 3ms/step - loss: 0.8112 - acc: 0.6988\n",
      "Epoch 27/93\n",
      "2/2 [==============================] - 0s 4ms/step - loss: 0.8078 - acc: 0.6676\n",
      "Epoch 28/93\n",
      "2/2 [==============================] - 0s 3ms/step - loss: 0.7916 - acc: 0.6988\n",
      "Epoch 29/93\n",
      "2/2 [==============================] - 0s 2ms/step - loss: 0.7863 - acc: 0.6884\n",
      "Epoch 30/93\n",
      "2/2 [==============================] - 0s 2ms/step - loss: 0.7761 - acc: 0.6884\n",
      "Epoch 31/93\n",
      "2/2 [==============================] - 0s 3ms/step - loss: 0.7673 - acc: 0.7285\n",
      "Epoch 32/93\n",
      "2/2 [==============================] - 0s 3ms/step - loss: 0.7608 - acc: 0.7433\n",
      "Epoch 33/93\n",
      "2/2 [==============================] - 0s 2ms/step - loss: 0.7451 - acc: 0.7833\n",
      "Epoch 34/93\n",
      "2/2 [==============================] - 0s 3ms/step - loss: 0.7373 - acc: 0.8234\n",
      "Epoch 35/93\n",
      "2/2 [==============================] - 0s 4ms/step - loss: 0.7263 - acc: 0.8338\n",
      "Epoch 36/93\n",
      "2/2 [==============================] - 0s 3ms/step - loss: 0.7174 - acc: 0.9199\n",
      "Epoch 37/93\n",
      "2/2 [==============================] - 0s 3ms/step - loss: 0.7173 - acc: 0.9243\n",
      "Epoch 38/93\n",
      "2/2 [==============================] - 0s 3ms/step - loss: 0.7011 - acc: 0.9243\n",
      "Epoch 39/93\n",
      "2/2 [==============================] - 0s 3ms/step - loss: 0.6844 - acc: 0.9199\n",
      "Epoch 40/93\n",
      "2/2 [==============================] - 0s 4ms/step - loss: 0.6785 - acc: 0.9095\n",
      "Epoch 41/93\n",
      "2/2 [==============================] - 0s 3ms/step - loss: 0.6783 - acc: 0.9243\n",
      "Epoch 42/93\n",
      "2/2 [==============================] - 0s 3ms/step - loss: 0.6605 - acc: 0.8442\n",
      "Epoch 43/93\n",
      "2/2 [==============================] - 0s 3ms/step - loss: 0.6616 - acc: 0.7938\n",
      "Epoch 44/93\n",
      "2/2 [==============================] - 0s 3ms/step - loss: 0.6418 - acc: 0.7433\n",
      "Epoch 45/93\n",
      "2/2 [==============================] - 0s 3ms/step - loss: 0.6435 - acc: 0.7433\n",
      "Epoch 46/93\n",
      "2/2 [==============================] - 0s 3ms/step - loss: 0.6227 - acc: 0.7745\n",
      "Epoch 47/93\n",
      "2/2 [==============================] - 0s 3ms/step - loss: 0.6157 - acc: 0.7137\n",
      "Epoch 48/93\n",
      "2/2 [==============================] - 0s 3ms/step - loss: 0.5990 - acc: 0.7745\n",
      "Epoch 49/93\n",
      "2/2 [==============================] - 0s 2ms/step - loss: 0.6143 - acc: 0.7938\n",
      "Epoch 50/93\n",
      "2/2 [==============================] - 0s 3ms/step - loss: 0.6047 - acc: 0.8338\n",
      "Epoch 51/93\n",
      "2/2 [==============================] - 0s 3ms/step - loss: 0.5947 - acc: 0.9347\n",
      "Epoch 52/93\n",
      "2/2 [==============================] - 0s 3ms/step - loss: 0.5975 - acc: 0.9495\n",
      "Epoch 53/93\n",
      "2/2 [==============================] - 0s 3ms/step - loss: 0.5805 - acc: 0.9704\n",
      "Epoch 54/93\n",
      "2/2 [==============================] - 0s 3ms/step - loss: 0.5785 - acc: 0.9748\n",
      "Epoch 55/93\n",
      "2/2 [==============================] - 0s 3ms/step - loss: 0.5580 - acc: 0.9600\n",
      "Epoch 56/93\n",
      "2/2 [==============================] - 0s 3ms/step - loss: 0.5615 - acc: 0.9451\n",
      "Epoch 57/93\n",
      "2/2 [==============================] - 0s 5ms/step - loss: 0.5596 - acc: 0.9748\n",
      "Epoch 58/93\n",
      "2/2 [==============================] - 0s 2ms/step - loss: 0.5467 - acc: 0.9600\n",
      "Epoch 59/93\n",
      "2/2 [==============================] - 0s 3ms/step - loss: 0.5321 - acc: 0.9600\n",
      "Epoch 60/93\n",
      "2/2 [==============================] - 0s 3ms/step - loss: 0.5255 - acc: 0.8546\n",
      "Epoch 61/93\n",
      "2/2 [==============================] - 0s 3ms/step - loss: 0.5269 - acc: 0.8086\n",
      "Epoch 62/93\n",
      "2/2 [==============================] - 0s 3ms/step - loss: 0.5238 - acc: 0.8042\n",
      "Epoch 63/93\n",
      "2/2 [==============================] - 0s 3ms/step - loss: 0.5340 - acc: 0.7833\n",
      "Epoch 64/93\n",
      "2/2 [==============================] - 0s 3ms/step - loss: 0.5246 - acc: 0.8042\n",
      "Epoch 65/93\n",
      "2/2 [==============================] - 0s 3ms/step - loss: 0.5167 - acc: 0.7981\n",
      "Epoch 66/93\n",
      "2/2 [==============================] - 0s 3ms/step - loss: 0.5013 - acc: 0.8338\n",
      "Epoch 67/93\n",
      "2/2 [==============================] - 0s 4ms/step - loss: 0.4878 - acc: 0.9199\n",
      "Epoch 68/93\n",
      "2/2 [==============================] - 0s 3ms/step - loss: 0.4973 - acc: 0.9495\n",
      "Epoch 69/93\n",
      "2/2 [==============================] - 0s 3ms/step - loss: 0.4965 - acc: 0.9748\n",
      "Epoch 70/93\n",
      "2/2 [==============================] - 0s 3ms/step - loss: 0.4860 - acc: 0.9347\n",
      "Epoch 71/93\n",
      "2/2 [==============================] - 0s 3ms/step - loss: 0.4848 - acc: 0.8738\n",
      "Epoch 72/93\n",
      "2/2 [==============================] - 0s 5ms/step - loss: 0.4804 - acc: 0.8947\n",
      "Epoch 73/93\n",
      "2/2 [==============================] - 0s 5ms/step - loss: 0.4686 - acc: 0.8738\n",
      "Epoch 74/93\n",
      "2/2 [==============================] - 0s 3ms/step - loss: 0.4775 - acc: 0.9451\n",
      "Epoch 75/93\n",
      "2/2 [==============================] - 0s 3ms/step - loss: 0.4625 - acc: 0.9495\n",
      "Epoch 76/93\n",
      "2/2 [==============================] - 0s 3ms/step - loss: 0.4581 - acc: 0.9748\n",
      "Epoch 77/93\n",
      "2/2 [==============================] - 0s 5ms/step - loss: 0.4456 - acc: 0.9495\n",
      "Epoch 78/93\n",
      "2/2 [==============================] - 0s 3ms/step - loss: 0.4424 - acc: 0.9095\n",
      "Epoch 79/93\n",
      "2/2 [==============================] - 0s 3ms/step - loss: 0.4392 - acc: 0.9095\n",
      "Epoch 80/93\n",
      "2/2 [==============================] - 0s 2ms/step - loss: 0.4297 - acc: 0.9007\n",
      "Epoch 81/93\n",
      "2/2 [==============================] - 0s 3ms/step - loss: 0.4366 - acc: 0.9199\n",
      "Epoch 82/93\n",
      "2/2 [==============================] - 0s 3ms/step - loss: 0.4298 - acc: 0.9199\n",
      "Epoch 83/93\n",
      "2/2 [==============================] - 0s 2ms/step - loss: 0.4284 - acc: 0.9600\n",
      "Epoch 84/93\n",
      "2/2 [==============================] - 0s 2ms/step - loss: 0.4246 - acc: 0.9600\n",
      "Epoch 85/93\n",
      "2/2 [==============================] - 0s 3ms/step - loss: 0.4250 - acc: 0.9495\n",
      "Epoch 86/93\n",
      "2/2 [==============================] - 0s 3ms/step - loss: 0.4137 - acc: 0.9600\n",
      "Epoch 87/93\n",
      "2/2 [==============================] - 0s 2ms/step - loss: 0.4124 - acc: 0.9600\n",
      "Epoch 88/93\n",
      "2/2 [==============================] - 0s 2ms/step - loss: 0.4248 - acc: 0.9600\n",
      "Epoch 89/93\n",
      "2/2 [==============================] - 0s 3ms/step - loss: 0.4179 - acc: 0.9095\n",
      "Epoch 90/93\n",
      "2/2 [==============================] - 0s 3ms/step - loss: 0.4251 - acc: 0.8991\n",
      "Epoch 91/93\n",
      "2/2 [==============================] - 0s 3ms/step - loss: 0.4106 - acc: 0.9199\n",
      "Epoch 92/93\n",
      "2/2 [==============================] - 0s 3ms/step - loss: 0.3995 - acc: 0.9199\n",
      "Epoch 93/93\n",
      "2/2 [==============================] - 0s 3ms/step - loss: 0.4006 - acc: 0.9600\n"
     ]
    },
    {
     "data": {
      "text/plain": [
       "<tensorflow.python.keras.callbacks.History at 0x7f87f850e090>"
      ]
     },
     "execution_count": 176,
     "metadata": {},
     "output_type": "execute_result"
    }
   ],
   "source": [
    "machine=Sequential()\n",
    "machine.add(Dense(16,input_dim=4,activation=\"relu\"))\n",
    "machine.add(Dense(32,activation=\"relu\"))\n",
    "machine.add(Dense(3,activation=\"softmax\"))\n",
    "machine.compile(loss=\"categorical_crossentropy\",optimizer=\"adam\",metrics=[\"acc\"])\n",
    "machine.fit(x_train,Y_train,epochs=93,verbose=1)\n"
   ]
  },
  {
   "cell_type": "code",
   "execution_count": 177,
   "metadata": {},
   "outputs": [
    {
     "name": "stdout",
     "output_type": "stream",
     "text": [
      "4/4 [==============================] - 0s 2ms/step - loss: 0.4182 - acc: 0.9714\n"
     ]
    },
    {
     "data": {
      "text/plain": [
       "[0.41823092103004456, 0.9714285731315613]"
      ]
     },
     "execution_count": 177,
     "metadata": {},
     "output_type": "execute_result"
    }
   ],
   "source": [
    "machine.evaluate(x_test,Y_test)"
   ]
  },
  {
   "cell_type": "code",
   "execution_count": 181,
   "metadata": {},
   "outputs": [
    {
     "name": "stderr",
     "output_type": "stream",
     "text": [
      "/opt/conda/lib/python3.7/site-packages/tensorflow/python/keras/engine/sequential.py:450: UserWarning: `model.predict_classes()` is deprecated and will be removed after 2021-01-01. Please use instead:* `np.argmax(model.predict(x), axis=-1)`,   if your model does multi-class classification   (e.g. if it uses a `softmax` last-layer activation).* `(model.predict(x) > 0.5).astype(\"int32\")`,   if your model does binary classification   (e.g. if it uses a `sigmoid` last-layer activation).\n",
      "  warnings.warn('`model.predict_classes()` is deprecated and '\n"
     ]
    }
   ],
   "source": [
    "ANNPred=machine.predict_classes(x)"
   ]
  },
  {
   "cell_type": "code",
   "execution_count": 182,
   "metadata": {},
   "outputs": [
    {
     "data": {
      "text/plain": [
       "array([[50,  0,  0],\n",
       "       [ 0, 45,  5],\n",
       "       [ 0,  0, 50]])"
      ]
     },
     "execution_count": 182,
     "metadata": {},
     "output_type": "execute_result"
    }
   ],
   "source": [
    "confusion_matrix(y,ANNPred)"
   ]
  },
  {
   "cell_type": "code",
   "execution_count": 185,
   "metadata": {},
   "outputs": [
    {
     "data": {
      "image/png": "[encoded data removed]",
      "text/plain": [
       "<Figure size 432x288 with 2 Axes>"
      ]
     },
     "metadata": {
      "needs_background": "light"
     },
     "output_type": "display_data"
    }
   ],
   "source": [
    "sn.heatmap(confusion_matrix(y,ANNPred))\n",
    "plt.show()"
   ]
  },
  {
   "cell_type": "code",
   "execution_count": 186,
   "metadata": {},
   "outputs": [
    {
     "name": "stdout",
     "output_type": "stream",
     "text": [
      "              precision    recall  f1-score   support\n",
      "\n",
      "           0       1.00      1.00      1.00        50\n",
      "           1       1.00      0.90      0.95        50\n",
      "           2       0.91      1.00      0.95        50\n",
      "\n",
      "    accuracy                           0.97       150\n",
      "   macro avg       0.97      0.97      0.97       150\n",
      "weighted avg       0.97      0.97      0.97       150\n",
      "\n"
     ]
    }
   ],
   "source": [
    "print(classification_report(y,ANNPred))"
   ]
  }
 ],
 "metadata": {
  "kernelspec": {
   "display_name": "Python 3",
   "language": "python",
   "name": "python3"
  },
  "language_info": {
   "codemirror_mode": {
    "name": "ipython",
    "version": 3
   },
   "file_extension": ".py",
   "mimetype": "text/x-python",
   "name": "python",
   "nbconvert_exporter": "python",
   "pygments_lexer": "ipython3",
   "version": "3.8.3"
  }
 },
 "nbformat": 4,
 "nbformat_minor": 4
}
